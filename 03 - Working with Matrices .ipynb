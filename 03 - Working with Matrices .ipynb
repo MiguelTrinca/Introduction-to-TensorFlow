{
 "cells": [
  {
   "cell_type": "markdown",
   "metadata": {},
   "source": [
    "# WORKING WITH MATRICES\n",
    "<img src=\"data:image/png;base64,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\" align=\"left\"/>"
   ]
  },
  {
   "cell_type": "markdown",
   "metadata": {},
   "source": [
    "<ul>\n",
    "    <li>Understanding how tensorflow work with matrices is really important as working with neural networks involves a lot of matrix operations</li>\n",
    "    <li>Many Algorithms depend upon matrix opertions.</li>\n",
    "</ul>"
   ]
  },
  {
   "cell_type": "code",
   "execution_count": 1,
   "metadata": {},
   "outputs": [],
   "source": [
    "## Imports\n",
    "import tensorflow as tf\n",
    "import numpy as np\n",
    "\n",
    "## TensorFlow Session\n",
    "sess = tf.Session()"
   ]
  },
  {
   "cell_type": "markdown",
   "metadata": {},
   "source": [
    "## 1.1 Creating Matrices\n",
    "<span> We can create two-dimensional matrices from numpy arrays or nested lists or we can use TensorFlow functions such as zeros(), ones(), truncated_normal(), etc...</span>"
   ]
  },
  {
   "cell_type": "code",
   "execution_count": 2,
   "metadata": {},
   "outputs": [],
   "source": [
    "identity_matrix = tf.diag([1.0, 2.0, 3.0])\n",
    "A = tf.truncated_normal(shape=[2, 3], dtype=tf.float32)\n",
    "B = tf.random_uniform(shape=[3, 2], dtype=tf.float32)\n",
    "C = tf.fill([3, 3], 5.0)\n",
    "D = tf.convert_to_tensor(np.array( [[1., 2., 3.], [4., 5., 6.], [6., 8., 9.]] ))"
   ]
  },
  {
   "cell_type": "code",
   "execution_count": 3,
   "metadata": {},
   "outputs": [
    {
     "name": "stdout",
     "output_type": "stream",
     "text": [
      "[[1. 0. 0.]\n",
      " [0. 2. 0.]\n",
      " [0. 0. 3.]]\n",
      "[[ 1.2482934   1.9769005   1.6384147 ]\n",
      " [ 0.05891892 -0.16772239 -0.2642645 ]]\n",
      "[[0.18700981 0.31702852]\n",
      " [0.43524933 0.25166166]\n",
      " [0.90508044 0.01129067]]\n",
      "[[5. 5. 5.]\n",
      " [5. 5. 5.]\n",
      " [5. 5. 5.]]\n",
      "[[1. 2. 3.]\n",
      " [4. 5. 6.]\n",
      " [6. 8. 9.]]\n"
     ]
    }
   ],
   "source": [
    "print(sess.run(identity_matrix))\n",
    "print(sess.run(A))\n",
    "print(sess.run(B))\n",
    "print(sess.run(C))\n",
    "print(sess.run(D))"
   ]
  },
  {
   "cell_type": "markdown",
   "metadata": {},
   "source": [
    "## 1.2 Metrics operations\n",
    "<ul>\n",
    "    <li>Addition</li>\n",
    "    <li>Substraction</li>\n",
    "    <li>Multiplication</li>\n",
    "    <li>Transpose</li>\n",
    "    <li>etc...</li>\n",
    "</ul>\n",
    "\n",
    "<img src = \"https://www.mathsisfun.com/algebra/images/matrix-multiply-a.svg\" align=\"top\" />\n",
    "<div align=\"left\">\n",
    "<b>DIM of A: (2, 3) => (m1, n1)</b> <br/>\n",
    "<b>DIM of B: (3, 2) => (m2, n2)</b> <br/>\n",
    "<span>For Matrix Multiplication: n1 == m2 and output matrix has dimension: (m1, n2)</span>\n",
    "</div>"
   ]
  },
  {
   "cell_type": "code",
   "execution_count": 6,
   "metadata": {},
   "outputs": [
    {
     "name": "stdout",
     "output_type": "stream",
     "text": [
      "[[-1.755157   -0.03699667  0.6466731 ]\n",
      " [ 3.0707593   2.5339692  -0.92706424]]\n"
     ]
    }
   ],
   "source": [
    "print(sess.run(A + A))"
   ]
  },
  {
   "cell_type": "code",
   "execution_count": 9,
   "metadata": {},
   "outputs": [
    {
     "name": "stdout",
     "output_type": "stream",
     "text": [
      "[[0. 0. 0.]\n",
      " [0. 0. 0.]]\n"
     ]
    }
   ],
   "source": [
    "print(sess.run(A - A))"
   ]
  },
  {
   "cell_type": "code",
   "execution_count": 12,
   "metadata": {},
   "outputs": [
    {
     "name": "stdout",
     "output_type": "stream",
     "text": [
      "[[-0.6769773  -0.5768281 ]\n",
      " [ 0.16568819  0.04184012]]\n"
     ]
    }
   ],
   "source": [
    "print(sess.run(tf.matmul(A, B)))"
   ]
  },
  {
   "cell_type": "code",
   "execution_count": 13,
   "metadata": {},
   "outputs": [
    {
     "name": "stdout",
     "output_type": "stream",
     "text": [
      "[[1. 2. 3.]\n",
      " [4. 5. 6.]\n",
      " [6. 8. 9.]]\n",
      "[[1. 4. 6.]\n",
      " [2. 5. 8.]\n",
      " [3. 6. 9.]]\n"
     ]
    }
   ],
   "source": [
    "print(sess.run(D))\n",
    "\n",
    "print(sess.run(tf.transpose(D)))"
   ]
  },
  {
   "cell_type": "code",
   "execution_count": 15,
   "metadata": {},
   "outputs": [
    {
     "name": "stdout",
     "output_type": "stream",
     "text": [
      "2.999999999999998\n"
     ]
    }
   ],
   "source": [
    "print(sess.run(tf.matrix_determinant(D)))"
   ]
  },
  {
   "cell_type": "code",
   "execution_count": 16,
   "metadata": {},
   "outputs": [
    {
     "name": "stdout",
     "output_type": "stream",
     "text": [
      "[[-1.          2.         -1.        ]\n",
      " [ 0.         -3.          2.        ]\n",
      " [ 0.66666667  1.33333333 -1.        ]]\n"
     ]
    }
   ],
   "source": [
    "print(sess.run(tf.matrix_inverse(D)))"
   ]
  },
  {
   "cell_type": "code",
   "execution_count": null,
   "metadata": {},
   "outputs": [],
   "source": []
  }
 ],
 "metadata": {
  "kernelspec": {
   "display_name": "Python 3",
   "language": "python",
   "name": "python3"
  },
  "language_info": {
   "codemirror_mode": {
    "name": "ipython",
    "version": 3
   },
   "file_extension": ".py",
   "mimetype": "text/x-python",
   "name": "python",
   "nbconvert_exporter": "python",
   "pygments_lexer": "ipython3",
   "version": "3.6.7"
  }
 },
 "nbformat": 4,
 "nbformat_minor": 2
}
